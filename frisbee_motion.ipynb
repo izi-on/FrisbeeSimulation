{
  "nbformat": 4,
  "nbformat_minor": 0,
  "metadata": {
    "colab": {
      "name": "frisbee-motion.ipynb",
      "provenance": [],
      "collapsed_sections": [],
      "include_colab_link": true
    },
    "kernelspec": {
      "name": "python3",
      "display_name": "Python 3"
    },
    "language_info": {
      "name": "python"
    }
  },
  "cells": [
    {
      "cell_type": "markdown",
      "metadata": {
        "id": "view-in-github",
        "colab_type": "text"
      },
      "source": [
        "<a href=\"https://colab.research.google.com/github/izi-on/FrisbeeSimulation/blob/main/frisbee_motion.ipynb\" target=\"_parent\"><img src=\"https://colab.research.google.com/assets/colab-badge.svg\" alt=\"Open In Colab\"/></a>"
      ]
    },
    {
      "cell_type": "markdown",
      "source": [
        "TERM-PROJECT: FIGURING OUT ALL POSSIBLE INITIAL PARAMETERS FOR FRISBEE FLIGHT FOR SPECIFIC INTERVAL OF TRAVELLED X DISTANCE. More specifically, the initial frisbee velocity, the initial angle of the velocity, and the inital inclination angle of the frisbee.\n",
        "\n",
        "In this case, the inclination angle refers to the angle between the circular cross-sectional frisbee area and the horizontal."
      ],
      "metadata": {
        "id": "CnlOHlD2mAhR"
      }
    },
    {
      "cell_type": "markdown",
      "source": [
        "In the first part, we simply we want to achieve a successful frisbee flight simulation, and in the second part we will focus on trying to find all possible initial paramaters allowing for our desired travelled distance. "
      ],
      "metadata": {
        "id": "XpFzNKB2m0P3"
      }
    },
    {
      "cell_type": "markdown",
      "source": [
        "PART 1:"
      ],
      "metadata": {
        "id": "sV8rCC4lnFti"
      }
    },
    {
      "cell_type": "markdown",
      "source": [
        "Import libraries:"
      ],
      "metadata": {
        "id": "eH89Aj1kXHbW"
      }
    },
    {
      "cell_type": "code",
      "execution_count": null,
      "metadata": {
        "id": "nehZWYbcWl-U"
      },
      "outputs": [],
      "source": [
        "import math\n",
        "import matplotlib.pyplot as plt\n",
        "import folium\n",
        "from folium import plugins \n",
        "from plotly.offline import plot, iplot, init_notebook_mode\n",
        "import plotly.graph_objs as go"
      ]
    },
    {
      "cell_type": "markdown",
      "source": [
        "Necessary parameters to describe frisbee flight trajectory:"
      ],
      "metadata": {
        "id": "zPOhETbyZN0s"
      }
    },
    {
      "cell_type": "code",
      "source": [
        "#IMPORTANT: angles above horizontal are positive, and below are negative\n",
        "av_0 = 15*math.pi/180 #initial angle of velocity vector\n",
        "incl_0 = 15*math.pi/180 #initial inclination of frisbee"
      ],
      "metadata": {
        "id": "ms999SVNZNKx"
      },
      "execution_count": null,
      "outputs": []
    },
    {
      "cell_type": "code",
      "source": [
        "aa_0 = abs(incl_0 - av_0) #initial angle of attack (angle between inclination vector and velocity vector)\n",
        "da_0 = (av_0 + math.pi)%(2*math.pi) #initial drift vector angle\n",
        "la_0 = (av_0 + math.pi/2)%(2*math.pi) #initial lift vector angle"
      ],
      "metadata": {
        "id": "m5i1xCw2gmkO"
      },
      "execution_count": null,
      "outputs": []
    },
    {
      "cell_type": "markdown",
      "source": [
        "IMPORTANT: For this simulation, we will assume the inclination of the frisbee will not change due to very high rotational momentum\n",
        "\n"
      ],
      "metadata": {
        "id": "-D50QzmlaA6v"
      }
    },
    {
      "cell_type": "markdown",
      "source": [
        "Necessary constants simulate frisblee flight trajectory:"
      ],
      "metadata": {
        "id": "PyTjSD1ochru"
      }
    },
    {
      "cell_type": "code",
      "source": [
        "p = 1.23 #air density constant\n",
        "a = 0.05309 #cross section of frisbee\n",
        "m = 0.175 #mass of frisbee\n",
        "g = -9.81 #gravitational acceleration"
      ],
      "metadata": {
        "id": "y6zGMyMHcnaX"
      },
      "execution_count": null,
      "outputs": []
    },
    {
      "cell_type": "code",
      "source": [
        "cd_0 = 0.085 + 3.3*(aa_0 + 0.052)**2 #initial coefficient of drag force (depends on the angle of attack)\n",
        "cl_0 = 0.13 + 3.09*aa_0 #initial coefficient of lift force (depends on the angle of attack)"
      ],
      "metadata": {
        "id": "k9U4J5XTg2b3"
      },
      "execution_count": null,
      "outputs": []
    },
    {
      "cell_type": "markdown",
      "source": [
        "Necessary vectors to describe frisbee flight trajectory:"
      ],
      "metadata": {
        "id": "AzQNFvW9aW0e"
      }
    },
    {
      "cell_type": "code",
      "source": [
        "vv_0 = 9 #initial velocity vector magnitude"
      ],
      "metadata": {
        "id": "roNEiuhTaGfw"
      },
      "execution_count": null,
      "outputs": []
    },
    {
      "cell_type": "code",
      "source": [
        "drag_0 = 1/2 * p * a * cd_0 * vv_0**2 #initial magnitude of drag force, direction is opposite to velocity vector\n",
        "lift_0 = 1/2 * p * a * cl_0 * vv_0**2 #initial magnitude of lift force, perpendicular to velocity vector"
      ],
      "metadata": {
        "id": "UmRYiwZFhAL1"
      },
      "execution_count": null,
      "outputs": []
    },
    {
      "cell_type": "markdown",
      "source": [
        "Initial position of frisbee:"
      ],
      "metadata": {
        "id": "YBJCyvUHk6sw"
      }
    },
    {
      "cell_type": "code",
      "source": [
        "x_0 = 0\n",
        "y_0 = 0"
      ],
      "metadata": {
        "id": "j9bHHBT7lxcG"
      },
      "execution_count": null,
      "outputs": []
    },
    {
      "cell_type": "markdown",
      "source": [
        "Initialize arrays for simulation using Euler's method"
      ],
      "metadata": {
        "id": "G9CLH8xQf8vC"
      }
    },
    {
      "cell_type": "code",
      "source": [
        "DT = 0.0001\n",
        "time = 6\n",
        "steps = int(time/DT)\n",
        "display_frames = 50 #number of scatter points on the graph (+-1)\n",
        "d_timer = int(steps/display_frames)\n",
        "\n",
        "cd = [cd_0,] #coefficient of drag force\n",
        "cl = [cl_0,] #coefficient of lift force\n",
        "aa = [aa_0,] #attack angles\n",
        "da = [da_0,] #drift angles\n",
        "la = [la_0,] #lift angles \n",
        "drag = [drag_0,] #drag vectors\n",
        "lift = [lift_0,] #lift vectors\n",
        "ax = [1/m * (lift_0*math.cos(la_0) + drag_0*math.cos(da_0)),] \n",
        "ay = [1/m * (lift_0*math.sin(la_0) + drag_0*math.sin(la_0) + m*g),]\n",
        "vx = [vv_0 * math.cos(av_0),]\n",
        "vy = [vv_0 * math.sin(av_0),]\n",
        "x = [x_0,]\n",
        "y = [y_0,]\n",
        "\n"
      ],
      "metadata": {
        "id": "WmiJCSLehJtL"
      },
      "execution_count": null,
      "outputs": []
    },
    {
      "cell_type": "markdown",
      "source": [
        "Run Euler's method:"
      ],
      "metadata": {
        "id": "Q9mLpAAquQtF"
      }
    },
    {
      "cell_type": "code",
      "source": [
        "\n",
        "for i in range(steps):\n",
        "\n",
        "  #break at the right time\n",
        "  if y[i] < 0:\n",
        "    break\n",
        "\n",
        "  #update attack angle\n",
        "  av = math.atan(vy[i]/vx[i])\n",
        "  incl = incl_0\n",
        "  aa.append(abs(incl - av))\n",
        "\n",
        "  #update acceleration\n",
        "  ax.append(1/m * (lift[i]*math.cos(la[i]) + drag[i]*math.cos(da[i])))\n",
        "  ay.append(1/m * (lift[i]*math.sin(la[i]) + drag[i]*math.sin(la[i]) + m*g))\n",
        "\n",
        "  #apply acceleration update to velocity\n",
        "  vx.append(vx[i] + ax[i]*DT)\n",
        "  vy.append(vy[i] + ay[i]*DT)\n",
        "\n",
        "\n",
        "  #update drift and lift coefficients\n",
        "  cd.append(0.085 + 3.3*(aa[i] + 0.052)**2)\n",
        "  cl.append(0.13 + 3.09*aa[i])\n",
        "\n",
        "  #update drift and lift vector angles\n",
        "  da.append((av + math.pi)%(2*math.pi)) \n",
        "  la.append((av + math.pi/2)%(2*math.pi)) \n",
        "\n",
        "  #update drift and lift magnitudes\n",
        "  v_mag = vx[i]/math.cos(av)\n",
        "  drag.append(1/2 * p * a * cd[i] * v_mag**2) #initial magnitude of drag force, direction is opposite to velocity vector\n",
        "  lift.append(1/2 * p * a * cl[i] * v_mag**2) #initial magnitude of lift force, perpendicular to velocity vector\n",
        "\n",
        "  #apply velocity update to position\n",
        "  x.append(x[i] + vx[i]*DT)\n",
        "  y.append(y[i] + vy[i]*DT)\n",
        "    \n"
      ],
      "metadata": {
        "id": "uYrTKDezuTG3"
      },
      "execution_count": null,
      "outputs": []
    },
    {
      "cell_type": "markdown",
      "source": [
        "Plot X vs Y position"
      ],
      "metadata": {
        "id": "Uyv8bAVlBUZ9"
      }
    },
    {
      "cell_type": "code",
      "source": [
        "\n",
        "fig = plt.figure()\n",
        "ax = fig.add_subplot(111)\n",
        "ax.set_aspect('equal', adjustable='box')\n",
        "\n",
        "\n",
        "plt.plot(x, y)\n",
        "plt.show()\n"
      ],
      "metadata": {
        "colab": {
          "base_uri": "https://localhost:8080/",
          "height": 72
        },
        "id": "zuYM20Y1BUKJ",
        "outputId": "344e03ad-64c4-40e3-8e24-6a13dcf1e888"
      },
      "execution_count": null,
      "outputs": [
        {
          "output_type": "display_data",
          "data": {
            "text/plain": [
              "<Figure size 432x288 with 1 Axes>"
            ],
            "image/png": "[encoded data removed]"
          },
          "metadata": {
            "needs_background": "light"
          }
        }
      ]
    },
    {
      "cell_type": "markdown",
      "source": [
        "PART 2:"
      ],
      "metadata": {
        "id": "fLrcFeYNnMgQ"
      }
    },
    {
      "cell_type": "markdown",
      "source": [
        "Convert problem to object oriented first"
      ],
      "metadata": {
        "id": "juJ6vNqi5juk"
      }
    },
    {
      "cell_type": "code",
      "source": [
        "class Frisbee(object):\n",
        "  DTf = 0.001\n",
        "  timef = 6\n",
        "  stepsf = int(timef/DTf)\n",
        "  g = -9.81\n",
        "\n",
        "  def __init__(self, av_0, incl_0, p, a, m, vv_0, x_0, y_0):\n",
        "    self.av_0 = av_0\n",
        "    self.incl_0 = incl_0\n",
        "    self.p = p\n",
        "    self.a = a\n",
        "    self.m = m\n",
        "    self.vv_0 = vv_0\n",
        "    self.x_0 = x_0\n",
        "    self.y_0 = y_0\n",
        "\n",
        "    #implicit variables\n",
        "    self.aa_0 = abs(self.incl_0 - self.av_0)\n",
        "    self.da_0 = (self.av_0 + math.pi)%(2*math.pi) \n",
        "    self.la_0 = (self.av_0 + math.pi/2)%(2*math.pi)\n",
        "\n",
        "    self.cd_0 = 0.085 + 3.3*(self.aa_0 + 0.052)**2\n",
        "    self.cl_0 = 0.13 + 3.09*self.aa_0\n",
        "\n",
        "    self.drag_0 = 1/2 * p * a * self.cd_0 * vv_0**2 #initial magnitude of drag force, direction is opposite to velocity vector\n",
        "    self.lift_0 = 1/2 * p * a * self.cl_0 * vv_0**2 #initial magnitude of lift force, perpendicular to velocity vector\n",
        "\n",
        "    #simulator array init\n",
        "    self.t = [0,]\n",
        "    self.cd = [self.cd_0,] #coefficient of drag force\n",
        "    self.cl = [self.cl_0,] #coefficient of lift force\n",
        "    self.aa = [self.aa_0,] #attack angles\n",
        "    self.da = [self.da_0,] #drift angles\n",
        "    self.la = [self.la_0,] #lift angles \n",
        "    self.drag = [self.drag_0,] #drag vectors\n",
        "    self.lift = [self.lift_0,] #lift vectors\n",
        "    self.ax = [1/self.m * (self.lift_0*math.cos(self.la_0) + self.drag_0*math.cos(self.da_0)),] \n",
        "    self.ay = [1/self.m * (self.lift_0*math.sin(self.la_0) + self.drag_0*math.sin(self.la_0) + self.m*self.g),]\n",
        "    self.vx = [self.vv_0 * math.cos(self.av_0),]\n",
        "    self.vy = [self.vv_0 * math.sin(self.av_0),]\n",
        "    self.x = [self.x_0,]\n",
        "    self.y = [self.y_0,]\n",
        "  \n",
        "  def simulate(self):\n",
        "    for i in range(self.stepsf):\n",
        "\n",
        "      #break at the right time\n",
        "      if self.y[i] < 0:\n",
        "        break\n",
        "\n",
        "      #update time\n",
        "      self.t.append(self.t[i] + self.DTf)\n",
        " \n",
        "      #update acceleration\n",
        "      self.ax.append(1/self.m * (self.lift[i]*math.cos(self.la[i]) + self.drag[i]*math.cos(self.da[i])))\n",
        "      self.ay.append(1/self.m * (self.lift[i]*math.sin(self.la[i]) + self.drag[i]*math.sin(self.la[i]) + self.m*self.g))\n",
        "\n",
        "      #apply acceleration update to velocity\n",
        "      self.vx.append(self.vx[i] + self.ax[i]*self.DTf)\n",
        "      self.vy.append(self.vy[i] + self.ay[i]*self.DTf)\n",
        "\n",
        "      #update attack angle\n",
        "      self.av = math.atan(self.vy[i]/self.vx[i])\n",
        "      self.incl = self.incl_0\n",
        "      self.aa.append(abs(self.incl - self.av))\n",
        "\n",
        "      #update drift and lift coefficients\n",
        "      self.cd.append(0.085 + 3.3*(self.aa[i] + 0.052)**2)\n",
        "      self.cl.append(0.13 + 3.09*self.aa[i])\n",
        "\n",
        "      #update drift and lift vector angles\n",
        "      self.da.append((self.av + math.pi)%(2*math.pi)) \n",
        "      self.la.append((self.av + math.pi/2)%(2*math.pi)) \n",
        "\n",
        "      #update drift and lift magnitudes\n",
        "      self.v_mag = self.vx[i]/math.cos(self.av)\n",
        "      self.drag.append(1/2 * self.p * self.a * self.cd[i] * self.v_mag**2) #initial magnitude of drag force, direction is opposite to velocity vector\n",
        "      self.lift.append(1/2 * self.p * self.a * self.cl[i] * self.v_mag**2) #initial magnitude of lift force, perpendicular to velocity vector\n",
        "\n",
        "      #apply velocity update to position\n",
        "      self.x.append(self.x[i] + self.vx[i]*self.DTf)\n",
        "      self.y.append(self.y[i] + self.vy[i]*self.DTf)\n",
        "\n",
        "  def get_max_dist(self):\n",
        "    return self.x[len(self.x)-1]\n",
        "\n",
        "  def get_max_time(self):\n",
        "    return self.t[len(self.t)-1]\n",
        "\n",
        "  def plot(self):\n",
        "    fig = plt.figure()\n",
        "    ax = fig.add_subplot(111)\n",
        "    ax.set_aspect('equal', adjustable='box')\n",
        "    plt.plot(self.x,self.y)\n"
      ],
      "metadata": {
        "id": "YMkW9BaY6Vmw"
      },
      "execution_count": null,
      "outputs": []
    },
    {
      "cell_type": "markdown",
      "source": [
        "Now, loop over a variety of initial velocity vector, velocity vector angle, and initial inclination angle to create all possible scenarios within the limits of our simulation."
      ],
      "metadata": {
        "id": "P0eBRd2kdk59"
      }
    },
    {
      "cell_type": "code",
      "source": [
        "#redefine constants if need be:\n",
        "p = 1.23 #air density constant\n",
        "a = 0.05309 #cross section of frisbee\n",
        "m = 0.175 #mass of frisbee\n",
        "g = -9.81 #gravitational acceleration\n",
        "x_0 = 0\n",
        "y_0 = 0"
      ],
      "metadata": {
        "id": "UKfDbBH7F8rc"
      },
      "execution_count": null,
      "outputs": []
    },
    {
      "cell_type": "code",
      "source": [
        "Frisbees = []\n",
        "for vv in range(100, 900, 35):\n",
        "  for av in range(0, 70, 1):\n",
        "    for incl in range(0, 32, 1):\n",
        "      frisbee = Frisbee(av*math.pi/180, incl*math.pi/180, p, a, m, float(vv)/100, x_0, y_0)\n",
        "      try:\n",
        "        frisbee.simulate() #for certain specific values (tends to happen more often the higher the velocity), Euler simulation starts yielding very large values for reasons unknown to me.\n",
        "      except:\n",
        "        print(\"Failed, skipping...\")\n",
        "      Frisbees.append(frisbee)\n",
        "        "
      ],
      "metadata": {
        "id": "l1KWR4ONe1lD"
      },
      "execution_count": null,
      "outputs": []
    },
    {
      "cell_type": "markdown",
      "source": [
        "Get frisbees that land in our desired distance interval"
      ],
      "metadata": {
        "id": "ssub5eVTjfg_"
      }
    },
    {
      "cell_type": "code",
      "source": [
        "x_min, x_max = 9, 10 #setting uper and lower bound for distance travelled"
      ],
      "metadata": {
        "id": "ykuwCbJR5JlD"
      },
      "execution_count": null,
      "outputs": []
    },
    {
      "cell_type": "code",
      "source": [
        "works = []\n",
        "vvw = []\n",
        "avw = []\n",
        "inclw = []\n",
        "tw =[]\n",
        "\n",
        "for frisbee in Frisbees:\n",
        "  lx = frisbee.get_max_dist()\n",
        "  if lx >= x_min and lx <= x_max:\n",
        "    works.append(frisbee)\n",
        "    vvw.append(frisbee.vv_0)\n",
        "    avw.append(frisbee.av_0*180/math.pi)\n",
        "    inclw.append(frisbee.incl_0*180/math.pi)\n",
        "    tw.append(frisbee.get_max_time())"
      ],
      "metadata": {
        "id": "ICmYcWbFjmbA"
      },
      "execution_count": null,
      "outputs": []
    },
    {
      "cell_type": "markdown",
      "source": [
        "Plot all the frisbee trajectories"
      ],
      "metadata": {
        "id": "bJrGuSY5hxvE"
      }
    },
    {
      "cell_type": "code",
      "source": [
        "fig = plt.figure()\n",
        "ax = fig.add_subplot(111)\n",
        "ax.set_aspect('equal', adjustable='box')\n",
        "for xf in works:\n",
        "  plt.plot(xf.x, xf.y)"
      ],
      "metadata": {
        "id": "Gz9IubgCh0FV"
      },
      "execution_count": null,
      "outputs": []
    },
    {
      "cell_type": "markdown",
      "source": [
        "3D Scatter Plot showcasing all valid initial configurations"
      ],
      "metadata": {
        "id": "_ays2j3yWF1j"
      }
    },
    {
      "cell_type": "code",
      "source": [
        "plot_scatter = go.Scatter3d(\n",
        "    x=vvw,\n",
        "    y=avw,\n",
        "    z=inclw,\n",
        "    mode='markers',\n",
        "    marker=dict(\n",
        "        size=5,\n",
        "        cmax=4,\n",
        "        cmin=0,\n",
        "        color=tw,\n",
        "        colorbar=dict(title='Time taken to land in seconds'),\n",
        "        colorscale='matter'\n",
        "    )\n",
        ")\n",
        "plotData = [plot_scatter]\n",
        "layout = go.Layout(\n",
        "    margin=dict(\n",
        "        l=0,\n",
        "        r=0,\n",
        "        b=0,\n",
        "        t=0\n",
        "    )\n",
        ")\n",
        "fig = go.Figure(data=plotData, layout=layout)\n",
        "\n",
        "fig.update_layout(\n",
        "    scene=dict(\n",
        "        xaxis_title='X: Initial magnitude of velocity',\n",
        "        yaxis_title='Y: Initial angle of velocity vector',\n",
        "        zaxis_title='Z: Initial frisbee inclination angle',\n",
        "    )\n",
        ")\n",
        "iplot(fig,filename='Interactive_3dScatter.html')"
      ],
      "metadata": {
        "id": "QXpbQvhbgn9w"
      },
      "execution_count": null,
      "outputs": []
    }
  ]
}